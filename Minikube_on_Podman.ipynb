{
 "cells": [
  {
   "cell_type": "markdown",
   "metadata": {},
   "source": [
    "# Kubernetes (Minikube) on Podman\n",
    "\n",
    "The fastest way to start is to run this command:"
   ]
  },
  {
   "cell_type": "code",
   "execution_count": 1,
   "metadata": {
    "vscode": {
     "languageId": "shellscript"
    }
   },
   "outputs": [
    {
     "name": "stdout",
     "output_type": "stream",
     "text": [
      "😄  minikube v1.26.0 on Darwin 12.4 (arm64)\n",
      "✨  Using the podman (experimental) driver based on existing profile\n",
      "👍  Starting control plane node minikube in cluster minikube\n",
      "🚜  Pulling base image ...\n",
      "E0725 11:41:01.134112   18512 cache.go:203] Error downloading kic artifacts:  not yet implemented, see issue #8426\n",
      "🔄  Restarting existing podman container for \"minikube\" ...\n",
      "🐳  Preparing Kubernetes v1.24.1 on Docker 20.10.17 ...E0725 11:41:07.641968   18512 start.go:126] Unable to get host IP: RoutableHostIPFromInside is currently only implemented for linux\n",
      "\u001b[K\u001b[K\u001b[K\u001b[K\u001b[K\u001b[K\u001b[K\u001b[K\u001b[K\u001b[K\u001b[K\u001b[K\u001b[K\u001b[K\u001b[K\u001b[K\u001b[K\u001b[K\u001b[K\u001b[K\u001b[K\u001b[K\u001b[K\u001b[K\u001b[K\u001b[K\u001b[K\u001b[K\u001b[K\u001b[K\u001b[K\u001b[K\u001b[K\u001b[K\u001b[K\u001b[K\u001b[K\u001b[K\u001b[K\u001b[K\u001b[K\u001b[K\u001b[K\u001b[K\u001b[K\u001b[K\u001b[K\u001b[K\u001b[K\u001b[K\u001b[K\u001b[K\u001b[K\u001b[K\u001b[K\u001b[K\u001b[K\u001b[K\u001b[K\u001b[K\u001b[K\u001b[K\u001b[K\u001b[K\u001b[K\u001b[K\u001b[K\u001b[K\u001b[K\u001b[K\u001b[K\u001b[K\u001b[K\u001b[K\u001b[K\u001b[K\u001b[K\u001b[K\u001b[K\u001b[K\u001b[K\u001b[K\u001b[K\u001b[K\u001b[K\u001b[K\u001b[K\u001b[K\u001b[K\u001b[K\u001b[K\u001b[K\u001b[K\u001b[K\u001b[K\u001b[K\u001b[K\u001b[K\u001b[K\u001b[K\u001b[K\u001b[K\u001b[K\u001b[K\u001b[K\u001b[K\u001b[K\u001b[K\u001b[K\u001b[K\u001b[K\u001b[K\u001b[K\u001b[K\u001b[K\u001b[K\u001b[K\u001b[K\u001b[K\u001b[K\u001b[K\u001b[K\u001b[K\u001b[K\u001b[K\u001b[K\u001b[K\u001b[K\u001b[K\u001b[K\u001b[K\u001b[K\u001b[K\u001b[K\u001b[K\u001b[K\u001b[K\u001b[K\u001b[K\u001b[K\u001b[K\u001b[K\u001b[K\u001b[K\u001b[K\u001b[K\u001b[K\u001b[K\u001b[K\u001b[K\u001b[K\u001b[K\u001b[K\u001b[K\u001b[K\u001b[K\u001b[K\u001b[K\u001b[K\u001b[K\u001b[K\u001b[K\u001b[K\u001b[K\u001b[K\u001b[K\u001b[K\u001b[K\u001b[K\u001b[K\u001b[K\u001b[K\u001b[K\u001b[K\u001b[K\u001b[K\u001b[K\u001b[K\u001b[K\u001b[K\u001b[K\u001b[K\u001b[K\u001b[K\u001b[K\u001b[K\u001b[K\u001b[K\u001b[K\u001b[K\u001b[K\u001b[K\u001b[K\u001b[K\u001b[K\u001b[K\u001b[K\u001b[K\u001b[K\u001b[K\u001b[K\u001b[K\u001b[K\u001b[K\u001b[K\u001b[K\u001b[K\u001b[K\u001b[K\u001b[K\u001b[K\u001b[K\u001b[K\u001b[K\u001b[K\u001b[K\n",
      "🔎  Verifying Kubernetes components...\n",
      "    ▪ Using image gcr.io/k8s-minikube/storage-provisioner:v5\n",
      "🌟  Enabled addons: storage-provisioner, default-storageclass\n",
      "🏄  Done! kubectl is now configured to use \"minikube\" cluster and \"default\" namespace by default\n",
      "\u001b[?2004h"
     ]
    },
    {
     "ename": "",
     "evalue": "1",
     "output_type": "error",
     "traceback": []
    }
   ],
   "source": [
    "minikube start --driver podman"
   ]
  },
  {
   "cell_type": "markdown",
   "metadata": {},
   "source": [
    "## Test: Migrate the pod from Podman to Kubernetes\n",
    "\n",
    "Let's just export the running pod (if you don't have one, check Chapter 3 and go through it).\n",
    "\n",
    "We will need a persisten volume claim. Note that the generator does not create other resources like `PersistentVolumeClaims`, so in case of needing one we will have to create it explicitly.\n"
   ]
  },
  {
   "cell_type": "code",
   "execution_count": 32,
   "metadata": {
    "vscode": {
     "languageId": "shellscript"
    }
   },
   "outputs": [
    {
     "name": "stdout",
     "output_type": "stream",
     "text": [
      "pod/dynamic-webserver created\n",
      "\u001b[?2004h"
     ]
    },
    {
     "ename": "",
     "evalue": "1",
     "output_type": "error",
     "traceback": []
    }
   ],
   "source": [
    "podman generate kube dynamic-webserver | kubectl apply -f -"
   ]
  },
  {
   "cell_type": "code",
   "execution_count": 4,
   "metadata": {
    "vscode": {
     "languageId": "shellscript"
    }
   },
   "outputs": [
    {
     "name": "stdout",
     "output_type": "stream",
     "text": [
      "NAME                READY   STATUS    RESTARTS   AGE\n",
      "dynamic-webserver   0/2     Pending   0          6m2s\n",
      "\u001b[?2004h"
     ]
    },
    {
     "ename": "",
     "evalue": "1",
     "output_type": "error",
     "traceback": []
    }
   ],
   "source": [
    "# The Pod won't be ready until the PVC is created:\n",
    "\n",
    "kubectl get pod dynamic-webserver"
   ]
  },
  {
   "cell_type": "markdown",
   "metadata": {},
   "source": [
    "## Create the Persistent Volume Claim\n",
    "\n",
    "Let's create the PVC using an inline script like the following one.\n",
    "\n",
    "Including the storage class as \"standard\" should allow minikube to provision a `PersistenVolume` automatically, so there is no need for explicitly provisioning a volume."
   ]
  },
  {
   "cell_type": "code",
   "execution_count": 33,
   "metadata": {
    "vscode": {
     "languageId": "shellscript"
    }
   },
   "outputs": [
    {
     "name": "stdout",
     "output_type": "stream",
     "text": [
      "persistentvolumeclaim/webserver-data created004l\u001b[?2004l\u001b[?2004l\u001b[?2004l\u001b[?2004l\u001b[?2004l\u001b[?2004l\u001b[?2004l\n",
      "\u001b[?2004h"
     ]
    },
    {
     "ename": "",
     "evalue": "1",
     "output_type": "error",
     "traceback": []
    }
   ],
   "source": [
    "echo \"\n",
    "apiVersion: v1\n",
    "kind: PersistentVolumeClaim\n",
    "metadata:\n",
    "  name: webserver-data\n",
    "spec:\n",
    "  accessModes:\n",
    "    - ReadWriteMany\n",
    "  storageClassName: standard\n",
    "  resources:\n",
    "    requests:\n",
    "      storage: 1Gi\n",
    "\" | kubectl apply -f -"
   ]
  },
  {
   "cell_type": "code",
   "execution_count": 25,
   "metadata": {
    "vscode": {
     "languageId": "shellscript"
    }
   },
   "outputs": [
    {
     "name": "stdout",
     "output_type": "stream",
     "text": [
      "NAME             STATUS   VOLUME                                     CAPACITY   ACCESS MODES   STORAGECLASS   AGE\n",
      "webserver-data   Bound    pvc-018de289-0506-49fb-a95c-8eaa17040cd8   1Gi        RWX            standard       5m57s\n",
      "\u001b[?2004h"
     ]
    },
    {
     "ename": "",
     "evalue": "1",
     "output_type": "error",
     "traceback": []
    }
   ],
   "source": [
    "kubectl get pvc webserver-data"
   ]
  },
  {
   "cell_type": "code",
   "execution_count": 26,
   "metadata": {
    "vscode": {
     "languageId": "shellscript"
    }
   },
   "outputs": [
    {
     "name": "stdout",
     "output_type": "stream",
     "text": [
      "Name:          webserver-data\n",
      "Namespace:     default\n",
      "StorageClass:  standard\n",
      "Status:        Bound\n",
      "Volume:        pvc-018de289-0506-49fb-a95c-8eaa17040cd8\n",
      "Labels:        <none>\n",
      "Annotations:   pv.kubernetes.io/bind-completed: yes\n",
      "               pv.kubernetes.io/bound-by-controller: yes\n",
      "               volume.beta.kubernetes.io/storage-provisioner: k8s.io/minikube-hostpath\n",
      "               volume.kubernetes.io/storage-provisioner: k8s.io/minikube-hostpath\n",
      "Finalizers:    [kubernetes.io/pvc-protection]\n",
      "Capacity:      1Gi\n",
      "Access Modes:  RWX\n",
      "VolumeMode:    Filesystem\n",
      "Used By:       dynamic-webserver\n",
      "Events:\n",
      "  Type    Reason                 Age                  From                                                                    Message\n",
      "  ----    ------                 ----                 ----                                                                    -------\n",
      "  Normal  Provisioning           6m1s                 k8s.io/minikube-hostpath_minikube_79f7c9e9-5132-4133-acf8-f4ea456da720  External provisioner is provisioning volume for claim \"default/webserver-data\"\n",
      "  Normal  ExternalProvisioning   6m1s (x2 over 6m1s)  persistentvolume-controller                                             waiting for a volume to be created, either by external provisioner \"k8s.io/minikube-hostpath\" or manually created by system administrator\n",
      "  Normal  ProvisioningSucceeded  6m1s                 k8s.io/minikube-hostpath_minikube_79f7c9e9-5132-4133-acf8-f4ea456da720  Successfully provisioned volume pvc-018de289-0506-49fb-a95c-8eaa17040cd8\n",
      "\u001b[?2004h"
     ]
    },
    {
     "ename": "",
     "evalue": "1",
     "output_type": "error",
     "traceback": []
    }
   ],
   "source": [
    "kubectl describe pvc webserver-data"
   ]
  },
  {
   "cell_type": "code",
   "execution_count": 27,
   "metadata": {
    "vscode": {
     "languageId": "shellscript"
    }
   },
   "outputs": [
    {
     "name": "stdout",
     "output_type": "stream",
     "text": [
      "NAME                READY   STATUS    RESTARTS   AGE\n",
      "dynamic-webserver   2/2     Running   0          29m\n",
      "\u001b[?2004h"
     ]
    },
    {
     "ename": "",
     "evalue": "1",
     "output_type": "error",
     "traceback": []
    }
   ],
   "source": [
    "kubectl get pod dynamic-webserver"
   ]
  },
  {
   "cell_type": "markdown",
   "metadata": {},
   "source": [
    "## Forwarding Requests to the Pod\n",
    "\n",
    "As we haven't yet provided a Service to the Kubernetes' Pod, we cannot forward requests to the services.\n",
    "\n",
    "To test the pods working together we will use the port forwarding functinality built-in in kubectl.\n",
    "Note that the target port is \"80\" and not \"8080\" as in the previous examples.\n",
    "For consistency we will map port 80 to 8080 on the local machine:"
   ]
  },
  {
   "cell_type": "code",
   "execution_count": 31,
   "metadata": {
    "vscode": {
     "languageId": "shellscript"
    }
   },
   "outputs": [
    {
     "name": "stdout",
     "output_type": "stream",
     "text": [
      "80c71a708a8e  dynamic-webserver  Exited      2 hours ago  41194441e148  4\n",
      "\u001b[?2004h"
     ]
    },
    {
     "ename": "",
     "evalue": "1",
     "output_type": "error",
     "traceback": []
    }
   ],
   "source": [
    "# Stop the Pod if you still have it running, it might be using port 8080\n",
    "podman pod ps | grep dynamic-webserver || podman pod stop dynamic-webserver"
   ]
  },
  {
   "cell_type": "markdown",
   "metadata": {},
   "source": [
    "# Run this on a shell, this process blocks the output and it is not suitable for the Jupyter Notebook\n",
    "kubectl port-forward pods/dynamic-webserver 8080:80"
   ]
  },
  {
   "cell_type": "code",
   "execution_count": 30,
   "metadata": {
    "vscode": {
     "languageId": "shellscript"
    }
   },
   "outputs": [
    {
     "name": "stdout",
     "output_type": "stream",
     "text": [
      "Static Website Init\n",
      "Index Updated @Mon Jul 25 11:18:11 UTC 2022\n",
      "Index Updated @Mon Jul 25 11:18:21 UTC 2022\n",
      "Index Updated @Mon Jul 25 11:18:31 UTC 2022\n",
      "Index Updated @Mon Jul 25 11:18:41 UTC 2022\n",
      "Index Updated @Mon Jul 25 11:18:51 UTC 2022\n",
      "Index Updated @Mon Jul 25 11:19:01 UTC 2022\n",
      "Index Updated @Mon Jul 25 11:19:11 UTC 2022\n",
      "Index Updated @Mon Jul 25 11:19:21 UTC 2022\n",
      "Index Updated @Mon Jul 25 11:19:31 UTC 2022\n",
      "Index Updated @Mon Jul 25 11:19:41 UTC 2022\n",
      "Index Updated @Mon Jul 25 11:19:51 UTC 2022\n",
      "Index Updated @Mon Jul 25 11:20:01 UTC 2022\n",
      "Index Updated @Mon Jul 25 11:20:11 UTC 2022\n",
      "Index Updated @Mon Jul 25 11:20:21 UTC 2022\n",
      "Index Updated @Mon Jul 25 11:20:31 UTC 2022\n",
      "Index Updated @Mon Jul 25 11:20:41 UTC 2022\n",
      "Index Updated @Mon Jul 25 11:20:51 UTC 2022\n",
      "Index Updated @Mon Jul 25 11:21:01 UTC 2022\n",
      "Index Updated @Mon Jul 25 11:21:11 UTC 2022\n",
      "Index Updated @Mon Jul 25 11:21:21 UTC 2022\n",
      "Index Updated @Mon Jul 25 11:21:31 UTC 2022\n",
      "Index Updated @Mon Jul 25 11:21:41 UTC 2022\n",
      "Index Updated @Mon Jul 25 11:21:51 UTC 2022\n",
      "Index Updated @Mon Jul 25 11:22:01 UTC 2022\n",
      "Index Updated @Mon Jul 25 11:22:11 UTC 2022\n",
      "Index Updated @Mon Jul 25 11:22:21 UTC 2022\n",
      "Index Updated @Mon Jul 25 11:22:31 UTC 2022\n",
      "Index Updated @Mon Jul 25 11:22:41 UTC 2022\n",
      "Index Updated @Mon Jul 25 11:22:51 UTC 2022\n",
      "Index Updated @Mon Jul 25 11:23:01 UTC 2022\n",
      "Index Updated @Mon Jul 25 11:23:11 UTC 2022\n",
      "Index Updated @Mon Jul 25 11:23:21 UTC 2022\n",
      "Index Updated @Mon Jul 25 11:23:31 UTC 2022\n",
      "Index Updated @Mon Jul 25 11:23:41 UTC 2022\n",
      "Index Updated @Mon Jul 25 11:23:51 UTC 2022\n",
      "Index Updated @Mon Jul 25 11:24:01 UTC 2022\n",
      "Index Updated @Mon Jul 25 11:24:11 UTC 2022\n",
      "Index Updated @Mon Jul 25 11:24:21 UTC 2022\n",
      "Index Updated @Mon Jul 25 11:24:31 UTC 2022\n",
      "Index Updated @Mon Jul 25 11:24:41 UTC 2022\n",
      "Index Updated @Mon Jul 25 11:24:51 UTC 2022\n",
      "Index Updated @Mon Jul 25 11:25:01 UTC 2022\n",
      "Index Updated @Mon Jul 25 11:25:11 UTC 2022\n",
      "Index Updated @Mon Jul 25 11:25:21 UTC 2022\n",
      "Index Updated @Mon Jul 25 11:25:31 UTC 2022\n",
      "Index Updated @Mon Jul 25 11:25:41 UTC 2022\n",
      "Index Updated @Mon Jul 25 11:25:51 UTC 2022\n",
      "Index Updated @Mon Jul 25 11:26:01 UTC 2022\n",
      "Index Updated @Mon Jul 25 11:26:11 UTC 2022\n",
      "Index Updated @Mon Jul 25 11:26:21 UTC 2022\n",
      "Index Updated @Mon Jul 25 11:26:31 UTC 2022\n",
      "Index Updated @Mon Jul 25 11:26:41 UTC 2022\n",
      "Index Updated @Mon Jul 25 11:26:51 UTC 2022\n",
      "Index Updated @Mon Jul 25 11:27:01 UTC 2022\n",
      "Index Updated @Mon Jul 25 11:27:11 UTC 2022\n",
      "Index Updated @Mon Jul 25 11:27:21 UTC 2022\n",
      "Index Updated @Mon Jul 25 11:27:31 UTC 2022\n",
      "Index Updated @Mon Jul 25 11:27:41 UTC 2022\n",
      "Index Updated @Mon Jul 25 11:27:51 UTC 2022\n",
      "Index Updated @Mon Jul 25 11:28:01 UTC 2022\n",
      "Index Updated @Mon Jul 25 11:28:11 UTC 2022\n",
      "Index Updated @Mon Jul 25 11:28:21 UTC 2022\n",
      "Index Updated @Mon Jul 25 11:28:31 UTC 2022\n",
      "Index Updated @Mon Jul 25 11:28:41 UTC 2022\n",
      "Index Updated @Mon Jul 25 11:28:51 UTC 2022\n",
      "Index Updated @Mon Jul 25 11:29:01 UTC 2022\n",
      "Index Updated @Mon Jul 25 11:29:11 UTC 2022\n",
      "\u001b[?2004h"
     ]
    },
    {
     "ename": "",
     "evalue": "1",
     "output_type": "error",
     "traceback": []
    }
   ],
   "source": [
    "curl localhost:8080"
   ]
  }
 ],
 "metadata": {
  "kernelspec": {
   "display_name": "Bash",
   "language": "bash",
   "name": "bash"
  },
  "language_info": {
   "codemirror_mode": "shell",
   "file_extension": ".sh",
   "mimetype": "text/x-sh",
   "name": "bash"
  },
  "orig_nbformat": 4
 },
 "nbformat": 4,
 "nbformat_minor": 2
}
